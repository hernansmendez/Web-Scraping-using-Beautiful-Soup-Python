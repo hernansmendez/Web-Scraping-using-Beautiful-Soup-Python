{
 "cells": [
  {
   "cell_type": "code",
   "execution_count": 1,
   "id": "8b62508e-f6ed-4dcf-a293-83ac7ed73ef9",
   "metadata": {
    "tags": []
   },
   "outputs": [],
   "source": [
    "import requests\n",
    "from bs4 import BeautifulSoup\n",
    "import pandas as pd\n",
    "\n",
    "# Send a GET request to the URL\n",
    "url = \"https://www.tycsports.com/estadisticas/liga-profesional-de-futbol.html\"\n",
    "response = requests.get(url)\n",
    "\n",
    "# Parse the HTML content using Beautiful Soup\n",
    "soup = BeautifulSoup(response.content, 'html.parser')\n",
    "\n",
    "# Find the table containing the statistics\n",
    "table = soup.find('table')\n",
    "\n",
    "# Extract the table headers\n",
    "headers = []\n",
    "for th in table.find_all('th'):\n",
    "    headers.append(th.text.strip())\n",
    "\n",
    "# Extract the table rows\n",
    "rows = []\n",
    "for tr in table.find_all('tr')[1:]:\n",
    "    row = []\n",
    "    for td in tr.find_all('td'):\n",
    "        row.append(td.text.strip())\n",
    "    rows.append(row)\n",
    "\n",
    "# Create a Pandas DataFrame with the headers and rows\n",
    "df = pd.DataFrame(data=rows, columns=headers)\n",
    "\n",
    "# Save DataFrame to an Excel file using openpyxl engine\n",
    "writer = pd.ExcelWriter('liga.xlsx', engine='openpyxl')\n",
    "df.to_excel(writer, sheet_name=\"liga\", index=False)\n",
    "writer.save()\n",
    "\n",
    "# Print success message and close webdriver\n",
    "print(\"Data successfully scraped and saved to 'liga.xlsx\")"
   ]
  },
  {
   "cell_type": "code",
   "execution_count": null,
   "id": "359c5952-9cb5-449b-a245-d0026a4f67bd",
   "metadata": {},
   "outputs": [],
   "source": []
  }
 ],
 "metadata": {
  "kernelspec": {
   "display_name": "Python 3 (ipykernel)",
   "language": "python",
   "name": "python3"
  },
  "language_info": {
   "codemirror_mode": {
    "name": "ipython",
    "version": 3
   },
   "file_extension": ".py",
   "mimetype": "text/x-python",
   "name": "python",
   "nbconvert_exporter": "python",
   "pygments_lexer": "ipython3",
   "version": "3.11.2"
  }
 },
 "nbformat": 4,
 "nbformat_minor": 5
}
